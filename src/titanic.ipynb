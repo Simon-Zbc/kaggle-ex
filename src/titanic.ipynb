{
 "cells": [
  {
   "cell_type": "code",
   "execution_count": 3,
   "metadata": {},
   "outputs": [],
   "source": [
    "import numpy as np\n",
    "import pandas as pd\n",
    "from sklearn.ensemble import RandomForestClassifier\n",
    "\n",
    "np.random.seed(123)\n",
    "\n",
    "train = pd.read_csv('../input/titanic/train.csv')\n",
    "test = pd.read_csv('../input/titanic/test.csv')\n",
    "gender_submission = pd.read_csv('../input/titanic/gender_submission.csv')\n",
    "\n",
    "data = pd.concat([train, test])\n",
    "data.isnull().sum()\n",
    "\n",
    "data['Sex'].replace(['male', 'female'], [0, 1], inplace=True)\n",
    "data['Embarked'].fillna(('S'), inplace=True)\n",
    "data['Embarked'] = data['Embarked'].map({\n",
    "    'S': 0,\n",
    "    'C': 1,\n",
    "    'Q': 2}).astype(int)\n",
    "data['Fare'].fillna(np.mean(data['Fare']), inplace=True)\n",
    "age_avg = data['Age'].mean()\n",
    "age_std = data['Age'].std()\n",
    "data['Age'].fillna(np.random.randint(age_avg - age_std, age_avg + age_std), inplace=True)\n",
    "del_cols = ['Name', 'PassengerId', 'SibSp', 'Parch', 'Ticket', 'Cabin']\n",
    "data.drop(del_cols, axis=1, inplace=True)\n",
    "data.head()\n",
    "\n",
    "train = data[:len(train)]\n",
    "test = data[len(train):]\n",
    "y_train = train['Survived']\n",
    "x_train = train.drop('Survived', axis=1)\n",
    "x_test = test.drop('Survived', axis=1)\n",
    "\n",
    "clf = RandomForestClassifier(n_estimators=100, max_depth=2, random_state=0)\n",
    "clf.fit(x_train, y_train)\n",
    "y_pred = clf.predict(x_test)\n",
    "y_pred[:20]\n",
    "\n",
    "sub = gender_submission\n",
    "sub['Survived'] = list(map(int, y_pred))\n",
    "sub.to_csv(\"submission.csv\", index=False)"
   ]
  }
 ],
 "metadata": {
  "kernelspec": {
   "display_name": "Python 3",
   "language": "python",
   "name": "python3"
  },
  "language_info": {
   "codemirror_mode": {
    "name": "ipython",
    "version": 3
   },
   "file_extension": ".py",
   "mimetype": "text/x-python",
   "name": "python",
   "nbconvert_exporter": "python",
   "pygments_lexer": "ipython3",
   "version": "3.11.3"
  },
  "orig_nbformat": 4
 },
 "nbformat": 4,
 "nbformat_minor": 2
}
